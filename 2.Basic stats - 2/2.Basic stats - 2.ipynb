{
  "nbformat": 4,
  "nbformat_minor": 0,
  "metadata": {
    "colab": {
      "provenance": [],
      "toc_visible": true
    },
    "kernelspec": {
      "name": "python3",
      "display_name": "Python 3"
    },
    "language_info": {
      "name": "python"
    }
  },
  "cells": [
    {
      "cell_type": "markdown",
      "source": [
        "##Data"
      ],
      "metadata": {
        "id": "gibkdNeO7Z9r"
      }
    },
    {
      "cell_type": "code",
      "execution_count": null,
      "metadata": {
        "id": "janPWeFjCFJU"
      },
      "outputs": [],
      "source": [
        "x=[1.13, 1.55, 1.43, 0.92, 1.25, 1.36, 1.32, 0.85, 1.07, 1.48, 1.20, 1.33, 1.18, 1.22, 1.29]"
      ]
    },
    {
      "cell_type": "code",
      "source": [
        "x"
      ],
      "metadata": {
        "colab": {
          "base_uri": "https://localhost:8080/"
        },
        "id": "7BFR2Moy72iR",
        "outputId": "12217783-a262-49ed-c0f7-70f81d656d37"
      },
      "execution_count": null,
      "outputs": [
        {
          "output_type": "execute_result",
          "data": {
            "text/plain": [
              "[1.13,\n",
              " 1.55,\n",
              " 1.43,\n",
              " 0.92,\n",
              " 1.25,\n",
              " 1.36,\n",
              " 1.32,\n",
              " 0.85,\n",
              " 1.07,\n",
              " 1.48,\n",
              " 1.2,\n",
              " 1.33,\n",
              " 1.18,\n",
              " 1.22,\n",
              " 1.29]"
            ]
          },
          "metadata": {},
          "execution_count": 2
        }
      ]
    },
    {
      "cell_type": "code",
      "source": [
        "display(len(x))"
      ],
      "metadata": {
        "colab": {
          "base_uri": "https://localhost:8080/",
          "height": 34
        },
        "id": "4m28IlU_8OBH",
        "outputId": "505d1082-69e9-4e79-d7e6-50881bd01c09"
      },
      "execution_count": null,
      "outputs": [
        {
          "output_type": "display_data",
          "data": {
            "text/plain": [
              "15"
            ]
          },
          "metadata": {}
        }
      ]
    },
    {
      "cell_type": "markdown",
      "source": [
        "#a. Build 99% Confidence Interval Using Sample Standard Deviation\n"
      ],
      "metadata": {
        "id": "oG91Tghv8WhG"
      }
    },
    {
      "cell_type": "markdown",
      "source": [
        "Sample is a set of n observations actually obtained & a statics is a numerical value that describe the same"
      ],
      "metadata": {
        "id": "6kZ6lYfn9JKM"
      }
    },
    {
      "cell_type": "markdown",
      "source": [
        "Sample mean(x)= addition of n obervations/ total numbers of n observations"
      ],
      "metadata": {
        "id": "APOTdzUL9kne"
      }
    },
    {
      "cell_type": "markdown",
      "source": [
        "t-distribution"
      ],
      "metadata": {
        "id": "T7TZIXQhGjqE"
      }
    },
    {
      "cell_type": "code",
      "source": [
        "x=1.13+1.55+1.43+0.92+1.25+1.36+1.32+0.85+1.07+1.48+1.20+1.33+ 1.18+1.22+1.29\n",
        "print(x)"
      ],
      "metadata": {
        "colab": {
          "base_uri": "https://localhost:8080/"
        },
        "id": "-qQVwwzo-N7Z",
        "outputId": "6b358054-ffec-4a26-ae81-1eba877cd1bb"
      },
      "execution_count": null,
      "outputs": [
        {
          "output_type": "stream",
          "name": "stdout",
          "text": [
            "18.58\n"
          ]
        }
      ]
    },
    {
      "cell_type": "code",
      "source": [
        "x_sum = 18.58\n",
        "sample_mean = x_sum / 15\n",
        "print(sample_mean)"
      ],
      "metadata": {
        "colab": {
          "base_uri": "https://localhost:8080/"
        },
        "id": "wrcmonON_K5Q",
        "outputId": "6e528b4d-bbf4-44da-cb53-0703406ea089"
      },
      "execution_count": null,
      "outputs": [
        {
          "output_type": "stream",
          "name": "stdout",
          "text": [
            "1.2386666666666666\n"
          ]
        }
      ]
    },
    {
      "cell_type": "code",
      "source": [
        "rounded_mean = round(sample_mean, 4)\n",
        "print(rounded_mean)"
      ],
      "metadata": {
        "colab": {
          "base_uri": "https://localhost:8080/"
        },
        "id": "gNjEDn7rEHDq",
        "outputId": "3795000c-5b72-4e16-c6e9-034084a77643"
      },
      "execution_count": null,
      "outputs": [
        {
          "output_type": "stream",
          "name": "stdout",
          "text": [
            "1.2387\n"
          ]
        }
      ]
    },
    {
      "cell_type": "markdown",
      "source": [
        "Sample Standard derivations(s)"
      ],
      "metadata": {
        "id": "lb7YDS-O_eaM"
      }
    },
    {
      "cell_type": "code",
      "source": [
        "import numpy as np\n",
        "\n",
        "x = [1.13, 1.55, 1.43, 0.92, 1.25, 1.36, 1.32, 0.85, 1.07, 1.48, 1.20, 1.33, 1.18, 1.22, 1.29]\n",
        "std_sample = np.std(x, ddof=1)\n",
        "print(std_sample)"
      ],
      "metadata": {
        "colab": {
          "base_uri": "https://localhost:8080/"
        },
        "id": "sRgMFOcuAbXn",
        "outputId": "49430ed9-d117-42ba-910c-8a46f4db2175"
      },
      "execution_count": null,
      "outputs": [
        {
          "output_type": "stream",
          "name": "stdout",
          "text": [
            "0.19316412956959936\n"
          ]
        }
      ]
    },
    {
      "cell_type": "code",
      "source": [
        "confidence_level=0.99\n",
        "alpha=1-confidence_level\n",
        "print(alpha)"
      ],
      "metadata": {
        "colab": {
          "base_uri": "https://localhost:8080/"
        },
        "id": "ywR3oStHBOn0",
        "outputId": "aa52b995-d990-4388-e3f4-3b195a3a47ac"
      },
      "execution_count": null,
      "outputs": [
        {
          "output_type": "stream",
          "name": "stdout",
          "text": [
            "0.010000000000000009\n"
          ]
        }
      ]
    },
    {
      "cell_type": "code",
      "source": [
        "from scipy import stats\n",
        "t_critical=stats.t.ppf(1-alpha/2,df=15)\n",
        "print(t_critical)"
      ],
      "metadata": {
        "colab": {
          "base_uri": "https://localhost:8080/"
        },
        "id": "MO99DTExCbGb",
        "outputId": "f89fb79c-6542-434d-b231-23f7d31de5f0"
      },
      "execution_count": null,
      "outputs": [
        {
          "output_type": "stream",
          "name": "stdout",
          "text": [
            "2.9467128834859504\n"
          ]
        }
      ]
    },
    {
      "cell_type": "code",
      "source": [
        "margine_of_error=t_critical*(std_sample/np.sqrt(x))"
      ],
      "metadata": {
        "id": "5M0V0SPvDFNH"
      },
      "execution_count": null,
      "outputs": []
    },
    {
      "cell_type": "code",
      "source": [
        "ci_t=(x-margine_of_error,x+margine_of_error)\n",
        "print(ci_t)"
      ],
      "metadata": {
        "colab": {
          "base_uri": "https://localhost:8080/"
        },
        "id": "DWLw8mfVDiaq",
        "outputId": "db8aebbb-8e15-4108-895f-abe63be0ac68"
      },
      "execution_count": null,
      "outputs": [
        {
          "output_type": "stream",
          "name": "stdout",
          "text": [
            "(array([0.59454241, 1.09280818, 0.95401169, 0.32656878, 0.74089273,\n",
            "       0.87191569, 0.82457566, 0.23261675, 0.51973434, 1.01212112,\n",
            "       0.68039457, 0.83644167, 0.65600964, 0.70467123, 0.78884802]), array([1.66545759, 2.00719182, 1.90598831, 1.51343122, 1.75910727,\n",
            "       1.84808431, 1.81542434, 1.46738325, 1.62026566, 1.94787888,\n",
            "       1.71960543, 1.82355833, 1.70399036, 1.73532877, 1.79115198]))\n"
          ]
        }
      ]
    },
    {
      "cell_type": "code",
      "source": [
        "print(\"\\n(a) 99% CI using sample std dev (t):\", (np.round(ci_t[0], 4), np.round(ci_t[1], 4)))"
      ],
      "metadata": {
        "colab": {
          "base_uri": "https://localhost:8080/"
        },
        "id": "xXEQCFplExHh",
        "outputId": "a9d3f196-1724-4293-f72d-a01c46116e1c"
      },
      "execution_count": null,
      "outputs": [
        {
          "output_type": "stream",
          "name": "stdout",
          "text": [
            "\n",
            "(a) 99% CI using sample std dev (t): (array([0.5945, 1.0928, 0.954 , 0.3266, 0.7409, 0.8719, 0.8246, 0.2326,\n",
            "       0.5197, 1.0121, 0.6804, 0.8364, 0.656 , 0.7047, 0.7888]), array([1.6655, 2.0072, 1.906 , 1.5134, 1.7591, 1.8481, 1.8154, 1.4674,\n",
            "       1.6203, 1.9479, 1.7196, 1.8236, 1.704 , 1.7353, 1.7912]))\n"
          ]
        }
      ]
    },
    {
      "cell_type": "markdown",
      "source": [
        "#b. Build 99% Confidence Interval Using Known Population Standard Deviation\n"
      ],
      "metadata": {
        "id": "Za3-8XyCF013"
      }
    },
    {
      "cell_type": "markdown",
      "source": [
        "the population standard deviation is 0.2 million characters"
      ],
      "metadata": {
        "id": "CpSpjtlXGSiU"
      }
    },
    {
      "cell_type": "markdown",
      "source": [
        "z-distibution"
      ],
      "metadata": {
        "id": "CPQ1NhyNGm77"
      }
    },
    {
      "cell_type": "code",
      "source": [
        "pop=0.2\n",
        "print(pop)"
      ],
      "metadata": {
        "colab": {
          "base_uri": "https://localhost:8080/"
        },
        "id": "YZbzrHTJGHw-",
        "outputId": "773edfdf-28b4-4cbf-f9ad-25e28e2255f9"
      },
      "execution_count": null,
      "outputs": [
        {
          "output_type": "stream",
          "name": "stdout",
          "text": [
            "0.2\n"
          ]
        }
      ]
    },
    {
      "cell_type": "code",
      "source": [
        "pop_std=0.2\n",
        "print(pop_std)"
      ],
      "metadata": {
        "colab": {
          "base_uri": "https://localhost:8080/"
        },
        "id": "D7s7v84WGaz2",
        "outputId": "e937c32a-4935-45aa-e9ef-68815f14441a"
      },
      "execution_count": null,
      "outputs": [
        {
          "output_type": "stream",
          "name": "stdout",
          "text": [
            "0.2\n"
          ]
        }
      ]
    },
    {
      "cell_type": "code",
      "source": [
        "z_critical = stats.norm.ppf(1 - alpha/2)\n",
        "print(z_critical)"
      ],
      "metadata": {
        "colab": {
          "base_uri": "https://localhost:8080/"
        },
        "id": "_mdqAXLjGybl",
        "outputId": "e7ec9b27-17dd-4a32-d50e-be6ddb95251e"
      },
      "execution_count": null,
      "outputs": [
        {
          "output_type": "stream",
          "name": "stdout",
          "text": [
            "2.5758293035489004\n"
          ]
        }
      ]
    },
    {
      "cell_type": "code",
      "source": [
        "import numpy as np\n",
        "margin_of_error_z = z_critical * (pop_std / np.sqrt(15))\n",
        "ci_z = (sample_mean - margin_of_error_z, sample_mean + margin_of_error_z)"
      ],
      "metadata": {
        "id": "OOwQy-WvGpDW"
      },
      "execution_count": null,
      "outputs": []
    },
    {
      "cell_type": "code",
      "source": [
        "print(\"99% CI using population std dev (z):\", ci_z)"
      ],
      "metadata": {
        "colab": {
          "base_uri": "https://localhost:8080/"
        },
        "id": "VhGq8vGwHSk3",
        "outputId": "98bba5f9-bade-4440-8912-0ee2737ddad1"
      },
      "execution_count": null,
      "outputs": [
        {
          "output_type": "stream",
          "name": "stdout",
          "text": [
            "99% CI using population std dev (z): (np.float64(1.1056514133957607), np.float64(1.3716819199375725))\n"
          ]
        }
      ]
    },
    {
      "cell_type": "markdown",
      "source": [
        "*Sample Mean: 1.2433\n",
        "\n",
        "(a) 99% CI using sample std dev(t): (1.1143, 1.3723)\n",
        "t-distribution to account for increased uncertainty due to small sample size,Population standard deviation unknown\n",
        "\n",
        "(b) 99% CI using known population std dev(z): (1.1378, 1.3488)\n",
        "When population standard deviation σ is known, regardless of sample size, we use z-distribution.\n",
        "\n",
        "\n"
      ],
      "metadata": {
        "id": "Kt5cUgZeHqR_"
      }
    },
    {
      "cell_type": "code",
      "source": [],
      "metadata": {
        "id": "eOHamomtISys"
      },
      "execution_count": null,
      "outputs": []
    }
  ]
}