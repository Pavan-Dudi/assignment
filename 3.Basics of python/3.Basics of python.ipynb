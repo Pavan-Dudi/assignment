{
  "cells": [
    {
      "cell_type": "markdown",
      "metadata": {
        "id": "RIQJoyZyecYF"
      },
      "source": [
        "#Python programming assignment"
      ]
    },
    {
      "cell_type": "markdown",
      "metadata": {
        "id": "HsLXu-sEelBL"
      },
      "source": [
        "##1.Prime Number"
      ]
    },
    {
      "cell_type": "code",
      "execution_count": null,
      "metadata": {
        "id": "YzCgTusdhjt5"
      },
      "outputs": [],
      "source": [
        "def is_prime(number):\n",
        "    if number <= 1:\n",
        "        return False\n",
        "    for i in range(2, int(number**0.5) + 1):\n",
        "        if number % i == 0:\n",
        "            return False\n",
        "    return True"
      ]
    },
    {
      "cell_type": "code",
      "execution_count": null,
      "metadata": {
        "colab": {
          "base_uri": "https://localhost:8080/"
        },
        "id": "vLtPOZwugimS",
        "outputId": "d4738089-37a3-4b9b-fe7d-0dec0a285655"
      },
      "outputs": [
        {
          "name": "stdout",
          "output_type": "stream",
          "text": [
            "prime\n"
          ]
        }
      ],
      "source": [
        "if is_prime(167):\n",
        "  print(\"prime\")\n",
        "else:\n",
        "  print(\"not prime\")"
      ]
    },
    {
      "cell_type": "markdown",
      "metadata": {
        "id": "EVevCjj045xh"
      },
      "source": [
        "##2.Product Of Random Number"
      ]
    },
    {
      "cell_type": "code",
      "execution_count": null,
      "metadata": {
        "id": "V3AjMWCn5Exa"
      },
      "outputs": [],
      "source": [
        "import random\n",
        "def random_product(num):\n",
        "  num1 = random.randint(1, 10)\n",
        "  num2 = random.randint(1, 10)\n",
        "  product= num1 * num2\n",
        "  return product\n",
        "\n",
        "\n"
      ]
    },
    {
      "cell_type": "code",
      "execution_count": null,
      "metadata": {
        "colab": {
          "base_uri": "https://localhost:8080/"
        },
        "id": "8Aih5A5q8_sG",
        "outputId": "0583667f-771e-4b7c-9de3-07a054cfc09d"
      },
      "outputs": [
        {
          "name": "stdout",
          "output_type": "stream",
          "text": [
            "5\n"
          ]
        }
      ],
      "source": [
        "print(random_product(10))"
      ]
    },
    {
      "cell_type": "code",
      "execution_count": 5,
      "metadata": {
        "colab": {
          "base_uri": "https://localhost:8080/"
        },
        "id": "00UKa-ms9MIe",
        "outputId": "ba94caf2-7ad9-4e7f-fa83-d4f6f43d5274"
      },
      "outputs": [
        {
          "name": "stdout",
          "output_type": "stream",
          "text": [
            "enter the number789\n",
            "8\n"
          ]
        }
      ],
      "source": [
        "user_name=int(input(\"enter the number\"))\n",
        "print(random_product(user_name))"
      ]
    },
    {
      "cell_type": "code",
      "execution_count": 6,
      "metadata": {
        "id": "rrCWFa28-hRq"
      },
      "outputs": [],
      "source": [
        "correct_name=42"
      ]
    },
    {
      "cell_type": "code",
      "execution_count": 7,
      "metadata": {
        "colab": {
          "base_uri": "https://localhost:8080/"
        },
        "id": "_HtyN6xr-e1o",
        "outputId": "617eb9ec-c2fd-4cb0-fc9f-0bbc8073f5a3"
      },
      "outputs": [
        {
          "name": "stdout",
          "output_type": "stream",
          "text": [
            "Incorrect. The correct answer is 10.\n"
          ]
        }
      ],
      "source": [
        "correct_answer = random_product(correct_name)\n",
        "\n",
        "\n",
        "if user_name == correct_name:\n",
        "    print(\"Correct! Well done.\")\n",
        "else:\n",
        "    print(f\"Incorrect. The correct answer is {correct_answer}.\")"
      ]
    },
    {
      "cell_type": "markdown",
      "metadata": {
        "id": "JPJd3s-D-xiS"
      },
      "source": [
        "##3.Square Of Even/Odd numbers"
      ]
    },
    {
      "cell_type": "code",
      "execution_count": 8,
      "metadata": {
        "colab": {
          "base_uri": "https://localhost:8080/"
        },
        "id": "uWBcBgGm_ylO",
        "outputId": "d044b587-bc5d-44ab-ade4-70160993be3c"
      },
      "outputs": [
        {
          "name": "stdout",
          "output_type": "stream",
          "text": [
            "100\n",
            "101\n",
            "102\n",
            "103\n",
            "104\n",
            "105\n",
            "106\n",
            "107\n",
            "108\n",
            "109\n",
            "110\n",
            "111\n",
            "112\n",
            "113\n",
            "114\n",
            "115\n",
            "116\n",
            "117\n",
            "118\n",
            "119\n",
            "120\n",
            "121\n",
            "122\n",
            "123\n",
            "124\n",
            "125\n",
            "126\n",
            "127\n",
            "128\n",
            "129\n",
            "130\n",
            "131\n",
            "132\n",
            "133\n",
            "134\n",
            "135\n",
            "136\n",
            "137\n",
            "138\n",
            "139\n",
            "140\n",
            "141\n",
            "142\n",
            "143\n",
            "144\n",
            "145\n",
            "146\n",
            "147\n",
            "148\n",
            "149\n",
            "150\n",
            "151\n",
            "152\n",
            "153\n",
            "154\n",
            "155\n",
            "156\n",
            "157\n",
            "158\n",
            "159\n",
            "160\n",
            "161\n",
            "162\n",
            "163\n",
            "164\n",
            "165\n",
            "166\n",
            "167\n",
            "168\n",
            "169\n",
            "170\n",
            "171\n",
            "172\n",
            "173\n",
            "174\n",
            "175\n",
            "176\n",
            "177\n",
            "178\n",
            "179\n",
            "180\n",
            "181\n",
            "182\n",
            "183\n",
            "184\n",
            "185\n",
            "186\n",
            "187\n",
            "188\n",
            "189\n",
            "190\n",
            "191\n",
            "192\n",
            "193\n",
            "194\n",
            "195\n",
            "196\n",
            "197\n",
            "198\n",
            "199\n",
            "200\n"
          ]
        }
      ],
      "source": [
        "for i  in range (100,201):\n",
        "  print (i)"
      ]
    },
    {
      "cell_type": "code",
      "execution_count": 9,
      "metadata": {
        "colab": {
          "base_uri": "https://localhost:8080/"
        },
        "id": "vdhTTp-MAgUg",
        "outputId": "720ab832-d6e5-43c5-9a6c-e6649146772f"
      },
      "outputs": [
        {
          "name": "stdout",
          "output_type": "stream",
          "text": [
            "40000\n",
            "even\n"
          ]
        }
      ],
      "source": [
        "if i%2==0:\n",
        "  print(i**2)\n",
        "  print(\"even\")\n",
        "else:\n",
        "  print(\"odd\")\n"
      ]
    },
    {
      "cell_type": "markdown",
      "metadata": {
        "id": "qY8s1EWgDPk3"
      },
      "source": [
        "##4.Word Counter"
      ]
    },
    {
      "cell_type": "code",
      "execution_count": 10,
      "metadata": {
        "id": "y713-I-BIBWt"
      },
      "outputs": [],
      "source": [
        "def word_count(input_text):\n",
        "  pass"
      ]
    },
    {
      "cell_type": "code",
      "execution_count": 11,
      "metadata": {
        "colab": {
          "base_uri": "https://localhost:8080/"
        },
        "id": "SJiIyzEwDHpD",
        "outputId": "38930047-f8ec-41b7-9390-6b70c186ed6f"
      },
      "outputs": [
        {
          "name": "stdout",
          "output_type": "stream",
          "text": [
            "enter the text\"This is a sample text. This text will be used to demonstrate the word counter.\"\n"
          ]
        }
      ],
      "source": [
        "input_text=input(\"enter the text\")"
      ]
    },
    {
      "cell_type": "code",
      "execution_count": null,
      "metadata": {
        "colab": {
          "base_uri": "https://localhost:8080/"
        },
        "id": "LMvjLbcOH_RZ",
        "outputId": "d80173a3-92cc-4594-ccc2-fcd7d7542301"
      },
      "outputs": [
        {
          "name": "stdout",
          "output_type": "stream",
          "text": [
            "'this': 2\n",
            "'is': 1\n",
            "'a': 1\n",
            "'sample': 1\n",
            "'text.': 1\n",
            "'text': 1\n",
            "'will': 1\n",
            "'be': 1\n",
            "'used': 1\n",
            "'to': 1\n",
            "'demonstrate': 1\n",
            "'the': 1\n",
            "'word': 1\n",
            "'counter.': 1\n"
          ]
        }
      ],
      "source": [
        "def word_counter(input_text):\n",
        "    words = input_text.split()\n",
        "    word_count = {}\n",
        "\n",
        "    for word in words:\n",
        "        word_lower = word.lower()\n",
        "        if word_lower in word_count:\n",
        "            word_count[word_lower] += 1\n",
        "        else:\n",
        "            word_count[word_lower] = 1\n",
        "\n",
        "    for word, count in word_count.items():\n",
        "        print(f\"'{word}': {count}\")\n",
        "\n",
        "input_text = \"This is a sample text. This text will be used to demonstrate the word counter.\"\n",
        "word_counter(input_text)\n"
      ]
    },
    {
      "cell_type": "code",
      "execution_count": null,
      "metadata": {
        "colab": {
          "base_uri": "https://localhost:8080/"
        },
        "id": "ZoiDo-kTEiaD",
        "outputId": "12390979-b5e7-4008-c9b2-abe270d0cc48"
      },
      "outputs": [
        {
          "data": {
            "text/plain": [
              "['__add__',\n",
              " '__class__',\n",
              " '__contains__',\n",
              " '__delattr__',\n",
              " '__dir__',\n",
              " '__doc__',\n",
              " '__eq__',\n",
              " '__format__',\n",
              " '__ge__',\n",
              " '__getattribute__',\n",
              " '__getitem__',\n",
              " '__getnewargs__',\n",
              " '__getstate__',\n",
              " '__gt__',\n",
              " '__hash__',\n",
              " '__init__',\n",
              " '__init_subclass__',\n",
              " '__iter__',\n",
              " '__le__',\n",
              " '__len__',\n",
              " '__lt__',\n",
              " '__mod__',\n",
              " '__mul__',\n",
              " '__ne__',\n",
              " '__new__',\n",
              " '__reduce__',\n",
              " '__reduce_ex__',\n",
              " '__repr__',\n",
              " '__rmod__',\n",
              " '__rmul__',\n",
              " '__setattr__',\n",
              " '__sizeof__',\n",
              " '__str__',\n",
              " '__subclasshook__',\n",
              " 'capitalize',\n",
              " 'casefold',\n",
              " 'center',\n",
              " 'count',\n",
              " 'encode',\n",
              " 'endswith',\n",
              " 'expandtabs',\n",
              " 'find',\n",
              " 'format',\n",
              " 'format_map',\n",
              " 'index',\n",
              " 'isalnum',\n",
              " 'isalpha',\n",
              " 'isascii',\n",
              " 'isdecimal',\n",
              " 'isdigit',\n",
              " 'isidentifier',\n",
              " 'islower',\n",
              " 'isnumeric',\n",
              " 'isprintable',\n",
              " 'isspace',\n",
              " 'istitle',\n",
              " 'isupper',\n",
              " 'join',\n",
              " 'ljust',\n",
              " 'lower',\n",
              " 'lstrip',\n",
              " 'maketrans',\n",
              " 'partition',\n",
              " 'removeprefix',\n",
              " 'removesuffix',\n",
              " 'replace',\n",
              " 'rfind',\n",
              " 'rindex',\n",
              " 'rjust',\n",
              " 'rpartition',\n",
              " 'rsplit',\n",
              " 'rstrip',\n",
              " 'split',\n",
              " 'splitlines',\n",
              " 'startswith',\n",
              " 'strip',\n",
              " 'swapcase',\n",
              " 'title',\n",
              " 'translate',\n",
              " 'upper',\n",
              " 'zfill']"
            ]
          },
          "execution_count": 55,
          "metadata": {},
          "output_type": "execute_result"
        }
      ],
      "source": [
        "dir(input_text)"
      ]
    },
    {
      "cell_type": "markdown",
      "metadata": {
        "id": "SC5SBkPfJmxL"
      },
      "source": [
        "##5.Check For Palidrom"
      ]
    },
    {
      "cell_type": "code",
      "execution_count": 4,
      "metadata": {
        "id": "G7Bq89xIJiXY"
      },
      "outputs": [],
      "source": [
        "#Write a Python function called is_palindrome that takes a string as input and returns True if the string is a palindrome, and False otherwise. A palindrome is a word, phrase, number, or other sequence of characters that reads the same forward and backward, ignoring spaces, punctuation, and capitalization.\n"
      ]
    },
    {
      "cell_type": "code",
      "execution_count": 1,
      "metadata": {
        "id": "Z3PLqxB6J6Pg"
      },
      "outputs": [],
      "source": [
        "import re"
      ]
    },
    {
      "cell_type": "code",
      "execution_count": 2,
      "metadata": {
        "id": "Ikd-coNqKKV_"
      },
      "outputs": [],
      "source": [
        "def is_palindrome():\n",
        "    pass"
      ]
    },
    {
      "cell_type": "code",
      "execution_count": 3,
      "metadata": {
        "colab": {
          "base_uri": "https://localhost:8080/"
        },
        "id": "IC2CGv8SLOrm",
        "outputId": "7acacc4a-06cd-412e-db3d-d3ef427e8afb"
      },
      "outputs": [
        {
          "name": "stdout",
          "output_type": "stream",
          "text": [
            "True\n",
            "True\n",
            "False\n"
          ]
        }
      ],
      "source": [
        "def is_palindrome(input_string):\n",
        "    processed_string = re.sub(r'[^a-zA-Z0-9]', '', input_string).lower()\n",
        "    return processed_string == processed_string[::-1]\n",
        "\n",
        "# Now call the function with string arguments\n",
        "print(is_palindrome(\"racecar\"))\n",
        "print(is_palindrome(\"A man, a plan, a canal: Panama\"))\n",
        "print(is_palindrome(\"hello\"))"
      ]
    }
  ],
  "metadata": {
    "colab": {
      "provenance": []
    },
    "kernelspec": {
      "display_name": "Python 3",
      "name": "python3"
    },
    "language_info": {
      "name": "python"
    }
  },
  "nbformat": 4,
  "nbformat_minor": 0
}
