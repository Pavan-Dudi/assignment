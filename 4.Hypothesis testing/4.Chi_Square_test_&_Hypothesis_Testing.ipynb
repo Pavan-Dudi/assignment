{
  "cells": [
    {
      "cell_type": "markdown",
      "metadata": {
        "id": "CUkclxlDmgDF"
      },
      "source": [
        "Chi-Square test"
      ]
    },
    {
      "cell_type": "markdown",
      "metadata": {
        "id": "rm9sXSJHmw9Y"
      },
      "source": [
        "Association between Device Type and Customer Satisfaction\n"
      ]
    },
    {
      "cell_type": "code",
      "execution_count": null,
      "metadata": {
        "id": "RONzZTymh_AH"
      },
      "outputs": [],
      "source": [
        "import pandas as pd\n",
        "import numpy as np\n",
        "import scipy.stats as stats"
      ]
    },
    {
      "cell_type": "markdown",
      "metadata": {
        "id": "93AWLRP4tUxB"
      },
      "source": [
        "1: State the Hypotheses"
      ]
    },
    {
      "cell_type": "code",
      "execution_count": null,
      "metadata": {
        "id": "fW45j1XVqCEG"
      },
      "outputs": [],
      "source": [
        "H0 =\"There is no assocition between Device Type and Customer Satisfaction\"\n",
        "H1 =\"There is no assocition between Device Type and Customer Satisfaction\""
      ]
    },
    {
      "cell_type": "markdown",
      "metadata": {
        "id": "o9VkgnMXtWGe"
      },
      "source": [
        "2:Compute the chi-square statistic"
      ]
    },
    {
      "cell_type": "code",
      "execution_count": null,
      "metadata": {
        "id": "8xRodqy1wS4M"
      },
      "outputs": [],
      "source": [
        "import scipy.stats as stats\n",
        "from scipy.stats import chi2_contingency"
      ]
    },
    {
      "cell_type": "code",
      "execution_count": null,
      "metadata": {
        "id": "7Gq5ZfZvvPPQ"
      },
      "outputs": [],
      "source": [
        "data = np.array([\n",
        "    [50, 70],  # Very Satisfied\n",
        "    [80, 100],  # Satisfied\n",
        "    [60, 90],  # Neutral\n",
        "    [30, 50],  # Dissatisfied\n",
        "    [20,50], #Very Dissatisfied\n",
        "])"
      ]
    },
    {
      "cell_type": "code",
      "execution_count": null,
      "metadata": {
        "colab": {
          "base_uri": "https://localhost:8080/"
        },
        "id": "HOfIdCoEv41O",
        "outputId": "31c3724b-81f4-4f32-d571-6b3dadf39a2b"
      },
      "outputs": [
        {
          "name": "stdout",
          "output_type": "stream",
          "text": [
            "Chi-square value: 5.638227513227513\n"
          ]
        }
      ],
      "source": [
        "chi2, p, dof, expected = chi2_contingency(data)\n",
        "print(\"Chi-square value:\", chi2)"
      ]
    },
    {
      "cell_type": "markdown",
      "metadata": {
        "id": "g9_ZGUg5w1Vo"
      },
      "source": [
        "### 3: Determine the Critical Value:\n"
      ]
    },
    {
      "cell_type": "code",
      "execution_count": null,
      "metadata": {
        "id": "C-cpR0Mxw0wZ"
      },
      "outputs": [],
      "source": [
        "alpha=0.05"
      ]
    },
    {
      "cell_type": "code",
      "execution_count": null,
      "metadata": {
        "colab": {
          "base_uri": "https://localhost:8080/"
        },
        "id": "u0U-bBc8ySZR",
        "outputId": "1f3cfb22-1ae8-466c-b492-d3220d3b1552"
      },
      "outputs": [
        {
          "name": "stdout",
          "output_type": "stream",
          "text": [
            "Critical value: 9.487729036781154\n"
          ]
        }
      ],
      "source": [
        "critical_value = stats.chi2.ppf(1-alpha,dof)\n",
        "print(\"Critical value:\",critical_value)"
      ]
    },
    {
      "cell_type": "markdown",
      "metadata": {
        "id": "5YD5w_QBzAPp"
      },
      "source": [
        "4: Make a Decision:\n"
      ]
    },
    {
      "cell_type": "code",
      "execution_count": null,
      "metadata": {
        "colab": {
          "base_uri": "https://localhost:8080/"
        },
        "id": "fWMmGqEbzCKT",
        "outputId": "5a9ed572-80f1-4e8c-d105-e95aef0c3884"
      },
      "outputs": [
        {
          "name": "stdout",
          "output_type": "stream",
          "text": [
            "Fail to reject the null hypothesis. NO significant association found.\n"
          ]
        }
      ],
      "source": [
        "if chi2 > critical_value:\n",
        "    print(\"Reject the null hypothesis. There IS a significant association.\")\n",
        "else:\n",
        "    print(\"Fail to reject the null hypothesis. NO significant association found.\")"
      ]
    },
    {
      "cell_type": "markdown",
      "metadata": {
        "id": "lSJcJvF00dMb"
      },
      "source": [
        "Hypothesis Testing\n"
      ]
    },
    {
      "cell_type": "markdown",
      "metadata": {
        "id": "IJFdFNgl0eqb"
      },
      "source": [
        "Weekly Operating Cost Investigation"
      ]
    },
    {
      "cell_type": "code",
      "execution_count": null,
      "metadata": {
        "id": "jNVSx9WLQ_nT"
      },
      "outputs": [],
      "source": [
        "import pandas as pd\n",
        "import numpy as np\n",
        "import math\n",
        "from scipy import stats\n"
      ]
    },
    {
      "cell_type": "markdown",
      "metadata": {
        "id": "u5WoCmdXRo-W"
      },
      "source": [
        "1.State the Hypotheses"
      ]
    },
    {
      "cell_type": "code",
      "execution_count": null,
      "metadata": {
        "id": "DdfWIEfcRTaI"
      },
      "outputs": [],
      "source": [
        "# Null Hypothesis (H0): μ = Theoretical weekly cost = Rs. 4000\n",
        "# Alternative Hypothesis (H1): μ > 4000 (Observed cost is higher)\n",
        "#test:t-test\n"
      ]
    },
    {
      "cell_type": "markdown",
      "metadata": {
        "id": "TB2b1zqsS6fv"
      },
      "source": [
        "### 2.Calculate the Test Statistic\n"
      ]
    },
    {
      "cell_type": "code",
      "execution_count": null,
      "metadata": {
        "colab": {
          "base_uri": "https://localhost:8080/"
        },
        "id": "MKbWeDp5XNev",
        "outputId": "64a57009-e535-4590-abaa-a932ffc4c176"
      },
      "outputs": [
        {
          "name": "stdout",
          "output_type": "stream",
          "text": [
            "Therotical Mean Cost: 4000\n"
          ]
        }
      ],
      "source": [
        "sample_mean =3050\n",
        "print(\"Therotical Mean Cost:\",theoretical_cost)"
      ]
    },
    {
      "cell_type": "code",
      "execution_count": null,
      "metadata": {
        "colab": {
          "base_uri": "https://localhost:8080/"
        },
        "id": "ASxGYi4RXtqH",
        "outputId": "69e0df71-4717-4b35-f11c-414e72e3cc95"
      },
      "outputs": [
        {
          "name": "stdout",
          "output_type": "stream",
          "text": [
            "X_mean cost: Rs. 600\n"
          ]
        }
      ],
      "source": [
        "X_mean=600\n",
        "print(f\"X_mean cost: Rs. {X_mean}\")"
      ]
    },
    {
      "cell_type": "code",
      "execution_count": null,
      "metadata": {
        "colab": {
          "base_uri": "https://localhost:8080/"
        },
        "id": "A4zXRu4OX_zT",
        "outputId": "d760559b-0696-48e3-9400-ea66afbcfc12"
      },
      "outputs": [
        {
          "name": "stdout",
          "output_type": "stream",
          "text": [
            "sample_mean cost: Rs {4000}\n"
          ]
        }
      ],
      "source": [
        "theoretical_cost = 1000 + 5 * X_mean\n",
        "print(f\"sample_mean cost: Rs\",{theoretical_cost})\n"
      ]
    },
    {
      "cell_type": "code",
      "execution_count": null,
      "metadata": {
        "colab": {
          "base_uri": "https://localhost:8080/"
        },
        "id": "eHbaHFerY5Xk",
        "outputId": "3eab917a-cb7a-41de-bde5-fa95e56edba5"
      },
      "outputs": [
        {
          "name": "stdout",
          "output_type": "stream",
          "text": [
            "Standard Derivation: 125\n"
          ]
        }
      ],
      "source": [
        "sigma_x = 25\n",
        "sigma_w = 5 * sigma_x\n",
        "print(f\"Standard Derivation: {sigma_w}\")"
      ]
    },
    {
      "cell_type": "code",
      "execution_count": null,
      "metadata": {
        "colab": {
          "base_uri": "https://localhost:8080/"
        },
        "id": "mUNc43UdZLQm",
        "outputId": "a5f5fdcf-c988-4714-b672-13d4514739cf"
      },
      "outputs": [
        {
          "name": "stdout",
          "output_type": "stream",
          "text": [
            "Sample Size : 25\n"
          ]
        }
      ],
      "source": [
        "n=25\n",
        "print(f\"Sample Size : {n}\")"
      ]
    },
    {
      "cell_type": "code",
      "execution_count": null,
      "metadata": {
        "colab": {
          "base_uri": "https://localhost:8080/"
        },
        "id": "8v69S_-BVT8q",
        "outputId": "2531b959-941d-4eca-e47f-c2e70434ca6d"
      },
      "outputs": [
        {
          "name": "stdout",
          "output_type": "stream",
          "text": [
            "Standard Error: 25.00\n"
          ]
        }
      ],
      "source": [
        "standard_error = sigma_w / math.sqrt(n)\n",
        "print(f\"Standard Error: {standard_error:.2f}\")"
      ]
    },
    {
      "cell_type": "code",
      "execution_count": null,
      "metadata": {
        "colab": {
          "base_uri": "https://localhost:8080/"
        },
        "id": "2BzkrRF7VmUZ",
        "outputId": "46c73ac3-6f79-4342-a743-b504f8d962fc"
      },
      "outputs": [
        {
          "name": "stdout",
          "output_type": "stream",
          "text": [
            "Test Statistic (t): -159.99\n"
          ]
        }
      ],
      "source": [
        "t_statistic = (sample_mean - theoretical_cost) / standard_error\n",
        "print(f\"Test Statistic (t): {t_statistic:.2f}\")"
      ]
    },
    {
      "cell_type": "markdown",
      "metadata": {
        "id": "bx55vFQPZSpy"
      },
      "source": [
        "3.Determine the Critical Value\n"
      ]
    },
    {
      "cell_type": "code",
      "execution_count": null,
      "metadata": {
        "colab": {
          "base_uri": "https://localhost:8080/"
        },
        "id": "cz1eDBCtZVxC",
        "outputId": "de32bbc1-399c-443b-bf37-ae9adb153c05"
      },
      "outputs": [
        {
          "name": "stdout",
          "output_type": "stream",
          "text": [
            "critical value: 1.7108820799094275\n"
          ]
        }
      ],
      "source": [
        "alpha=0.05\n",
        "z_critical = stats.t.ppf(1-alpha,n-1)\n",
        "print(f\"critical value: {z_critical}\")"
      ]
    },
    {
      "cell_type": "markdown",
      "metadata": {
        "id": "C0saSMJoZ6xE"
      },
      "source": [
        "4.Make a Decision"
      ]
    },
    {
      "cell_type": "code",
      "execution_count": null,
      "metadata": {
        "id": "Mgd39zeIZ0qW"
      },
      "outputs": [],
      "source": [
        "if t_statistic <= z_critical:\n",
        "    decision = \"Reject the null hypothesis\"\n",
        "    conclusion = \"There is strong evidence that the weekly operating costs are higher than the model suggests.\"\n",
        "else:\n",
        "    decision = \"Fail to reject the null hypothesis\"\n",
        "    conclusion = \"There is not enough evidence to suggest the weekly operating costs are higher than the model.\"\n"
      ]
    },
    {
      "cell_type": "code",
      "execution_count": null,
      "metadata": {
        "colab": {
          "base_uri": "https://localhost:8080/"
        },
        "id": "8LSi8aXwbWEh",
        "outputId": "471763f5-8a5e-4289-8328-d9e5bcab075d"
      },
      "outputs": [
        {
          "name": "stdout",
          "output_type": "stream",
          "text": [
            "Decision: Reject the null hypothesis\n",
            "Conclusion: There is strong evidence that the weekly operating costs are higher than the model suggests.\n"
          ]
        }
      ],
      "source": [
        "print(f\"Decision: {decision}\")\n",
        "print(f\"Conclusion: {conclusion}\")"
      ]
    },
    {
      "cell_type": "markdown",
      "metadata": {
        "id": "abImxqmmcC2F"
      },
      "source": [
        "Conclusion"
      ]
    },
    {
      "cell_type": "markdown",
      "metadata": {
        "id": "xLqlizRKbwKk"
      },
      "source": [
        "1.There is no evidence to support the restaurant owners' claim that weekly operating costs are higher than the cost model predicts.                                               \n",
        "2.the data shows lower costs than expected under the theoretical model                                                                                                            \n",
        "3.Therefore, the claim of increased costs is not statistically supported by the sample"
      ]
    },
    {
      "cell_type": "code",
      "execution_count": null,
      "metadata": {
        "id": "HuQrsjdMcBXn"
      },
      "outputs": [],
      "source": []
    }
  ],
  "metadata": {
    "colab": {
      "provenance": []
    },
    "kernelspec": {
      "display_name": "Python 3",
      "name": "python3"
    },
    "language_info": {
      "name": "python"
    }
  },
  "nbformat": 4,
  "nbformat_minor": 0
}
